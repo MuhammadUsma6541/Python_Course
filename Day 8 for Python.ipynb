{
 "cells": [
  {
   "cell_type": "code",
   "execution_count": 1,
   "id": "b6ecbb4b",
   "metadata": {},
   "outputs": [],
   "source": [
    "import pandas as pd"
   ]
  },
  {
   "cell_type": "markdown",
   "id": "e3d7664d",
   "metadata": {},
   "source": [
    "# \"is\" vs \"==\""
   ]
  },
  {
   "cell_type": "code",
   "execution_count": 2,
   "id": "50a19596",
   "metadata": {},
   "outputs": [
    {
     "name": "stdout",
     "output_type": "stream",
     "text": [
      "False\n"
     ]
    }
   ],
   "source": [
    "a= \"hello \"\n",
    "b=\"Usama\"\n",
    "print(a==b)"
   ]
  },
  {
   "cell_type": "code",
   "execution_count": 3,
   "id": "d684722c",
   "metadata": {},
   "outputs": [
    {
     "name": "stdout",
     "output_type": "stream",
     "text": [
      "False\n"
     ]
    }
   ],
   "source": [
    "print(a is b)"
   ]
  },
  {
   "cell_type": "code",
   "execution_count": 4,
   "id": "3dcee7dc",
   "metadata": {},
   "outputs": [
    {
     "name": "stdout",
     "output_type": "stream",
     "text": [
      "True\n"
     ]
    }
   ],
   "source": [
    "a=3\n",
    "b=3\n",
    "print(a==b)"
   ]
  },
  {
   "cell_type": "code",
   "execution_count": 5,
   "id": "345f4a91",
   "metadata": {},
   "outputs": [
    {
     "name": "stdout",
     "output_type": "stream",
     "text": [
      "True\n"
     ]
    }
   ],
   "source": [
    "print(a is b)"
   ]
  },
  {
   "cell_type": "markdown",
   "id": "f13af8d4",
   "metadata": {},
   "source": [
    "# Introduction to OOP"
   ]
  },
  {
   "cell_type": "code",
   "execution_count": 1,
   "id": "49375503",
   "metadata": {},
   "outputs": [
    {
     "name": "stdout",
     "output_type": "stream",
     "text": [
      "hello\n"
     ]
    }
   ],
   "source": [
    "def hello():\n",
    "    print(\"hello\")\n",
    "hello()"
   ]
  },
  {
   "cell_type": "code",
   "execution_count": 2,
   "id": "2f33dd58",
   "metadata": {},
   "outputs": [],
   "source": [
    "sales1=6000\n",
    "profit1=2000\n",
    "adv1=1000\n",
    "\n",
    "sales2=6000\n",
    "profit2=2000\n",
    "adv2=1000\n",
    "\n",
    "sales3=6000\n",
    "profit3=2000\n",
    "adv3=1000"
   ]
  },
  {
   "cell_type": "markdown",
   "id": "31c2e470",
   "metadata": {},
   "source": [
    "# Classes and Objects "
   ]
  },
  {
   "cell_type": "code",
   "execution_count": 10,
   "id": "7c2930ba",
   "metadata": {},
   "outputs": [
    {
     "name": "stdout",
     "output_type": "stream",
     "text": [
      "Usama is a Developer.\n"
     ]
    }
   ],
   "source": [
    "# self means that object for which function is calling\n",
    "class person:\n",
    "    name='Usama'\n",
    "    Occupasion='Developer'\n",
    "    Nationality='Pakistan'\n",
    "    def info(self):\n",
    "        print(f\"{self.name} is a {self.Occupasion}.\")\n",
    "a=person()\n",
    "a.info()\n"
   ]
  },
  {
   "cell_type": "code",
   "execution_count": 11,
   "id": "7240936c",
   "metadata": {},
   "outputs": [],
   "source": [
    "a.name=\"Haider\"\n",
    "a.Nationality=\"india\""
   ]
  },
  {
   "cell_type": "code",
   "execution_count": 12,
   "id": "8fc86b6e",
   "metadata": {},
   "outputs": [
    {
     "name": "stdout",
     "output_type": "stream",
     "text": [
      "Haider india\n"
     ]
    }
   ],
   "source": [
    "print(a.name,a.Nationality)"
   ]
  },
  {
   "cell_type": "markdown",
   "id": "c8c4f790",
   "metadata": {},
   "source": [
    "# Constructors"
   ]
  },
  {
   "cell_type": "code",
   "execution_count": 7,
   "id": "04743103",
   "metadata": {},
   "outputs": [
    {
     "name": "stdout",
     "output_type": "stream",
     "text": [
      "hey i am a usama\n"
     ]
    }
   ],
   "source": [
    "# this function invokes every time when it is called\n",
    "class person:\n",
    "    def __init__(self,n,o):\n",
    "        print(\"hey i am a usama\")\n",
    "        self.name=n\n",
    "        self.occ=o\n",
    "    def info (self):\n",
    "        print(f\"{self.name} is a {self.occ}\")\n",
    "a=person(\"Usama\",\"Developer\")"
   ]
  },
  {
   "cell_type": "code",
   "execution_count": 8,
   "id": "90ac8195",
   "metadata": {},
   "outputs": [
    {
     "name": "stdout",
     "output_type": "stream",
     "text": [
      "hey i am a usama\n"
     ]
    }
   ],
   "source": [
    "b=person('Haider',\"HR\")"
   ]
  },
  {
   "cell_type": "code",
   "execution_count": 9,
   "id": "4776f1c3",
   "metadata": {},
   "outputs": [
    {
     "name": "stdout",
     "output_type": "stream",
     "text": [
      "Usama is a Developer\n"
     ]
    }
   ],
   "source": [
    "a.info()"
   ]
  },
  {
   "cell_type": "code",
   "execution_count": 10,
   "id": "29f2e50f",
   "metadata": {},
   "outputs": [
    {
     "name": "stdout",
     "output_type": "stream",
     "text": [
      "Haider is a HR\n"
     ]
    }
   ],
   "source": [
    "b.info()"
   ]
  },
  {
   "cell_type": "code",
   "execution_count": 13,
   "id": "1c90d796",
   "metadata": {},
   "outputs": [
    {
     "ename": "TypeError",
     "evalue": "person.__init__() takes 3 positional arguments but 4 were given",
     "output_type": "error",
     "traceback": [
      "\u001b[1;31m---------------------------------------------------------------------------\u001b[0m",
      "\u001b[1;31mTypeError\u001b[0m                                 Traceback (most recent call last)",
      "Cell \u001b[1;32mIn[13], line 1\u001b[0m\n\u001b[1;32m----> 1\u001b[0m c\u001b[38;5;241m=\u001b[39mperson(\u001b[38;5;241m1\u001b[39m,\u001b[38;5;241m2\u001b[39m,\u001b[38;5;241m3\u001b[39m)\n",
      "\u001b[1;31mTypeError\u001b[0m: person.__init__() takes 3 positional arguments but 4 were given"
     ]
    }
   ],
   "source": [
    "c=person(1,2,3)\n",
    "# self is the first argument"
   ]
  },
  {
   "cell_type": "code",
   "execution_count": null,
   "id": "2cf1698a",
   "metadata": {},
   "outputs": [],
   "source": []
  }
 ],
 "metadata": {
  "kernelspec": {
   "display_name": "Python 3 (ipykernel)",
   "language": "python",
   "name": "python3"
  },
  "language_info": {
   "codemirror_mode": {
    "name": "ipython",
    "version": 3
   },
   "file_extension": ".py",
   "mimetype": "text/x-python",
   "name": "python",
   "nbconvert_exporter": "python",
   "pygments_lexer": "ipython3",
   "version": "3.11.5"
  }
 },
 "nbformat": 4,
 "nbformat_minor": 5
}
