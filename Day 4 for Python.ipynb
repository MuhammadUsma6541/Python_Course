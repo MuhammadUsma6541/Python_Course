{
 "cells": [
  {
   "cell_type": "code",
   "execution_count": 1,
   "id": "bf57d5d2",
   "metadata": {},
   "outputs": [],
   "source": [
    "import pandas as pd"
   ]
  },
  {
   "cell_type": "markdown",
   "id": "6af861a0",
   "metadata": {},
   "source": [
    "# Dictionary"
   ]
  },
  {
   "cell_type": "code",
   "execution_count": 3,
   "id": "84d0f572",
   "metadata": {},
   "outputs": [
    {
     "name": "stdout",
     "output_type": "stream",
     "text": [
      "human being\n"
     ]
    }
   ],
   "source": [
    "dict ={\n",
    "    \"usama\":\"human being\",\n",
    "    \"spoorn\":\"object\"\n",
    "}\n",
    "print(dict[\"usama\"])"
   ]
  },
  {
   "cell_type": "code",
   "execution_count": 4,
   "id": "2982411b",
   "metadata": {},
   "outputs": [
    {
     "name": "stdout",
     "output_type": "stream",
     "text": [
      "{'name': 'usama', 'class': 'BSSE', 'CGPA': 2.89}\n",
      "usama\n",
      "BSSE\n"
     ]
    }
   ],
   "source": [
    "info={'name':'usama','class':'BSSE','CGPA':2.89}\n",
    "print(info)\n",
    "# if key is not exist then info['name'] will show an error\n",
    "print(info['name'])\n",
    "# if key is not present then info.get() show 'NONE'\n",
    "print(info.get('class'))"
   ]
  },
  {
   "cell_type": "code",
   "execution_count": 5,
   "id": "ec756baa",
   "metadata": {},
   "outputs": [
    {
     "name": "stdout",
     "output_type": "stream",
     "text": [
      "dict_keys(['name', 'class', 'CGPA'])\n"
     ]
    }
   ],
   "source": [
    "print(info.keys())"
   ]
  },
  {
   "cell_type": "code",
   "execution_count": 6,
   "id": "e62b6f95",
   "metadata": {},
   "outputs": [
    {
     "name": "stdout",
     "output_type": "stream",
     "text": [
      "dict_values(['usama', 'BSSE', 2.89])\n"
     ]
    }
   ],
   "source": [
    "print(info.values())"
   ]
  },
  {
   "cell_type": "code",
   "execution_count": 7,
   "id": "e9abd5bb",
   "metadata": {},
   "outputs": [
    {
     "name": "stdout",
     "output_type": "stream",
     "text": [
      "usama\n",
      "BSSE\n",
      "2.89\n"
     ]
    }
   ],
   "source": [
    "for key in info.keys():\n",
    "    print(info[key])"
   ]
  },
  {
   "cell_type": "code",
   "execution_count": 8,
   "id": "209bb189",
   "metadata": {},
   "outputs": [],
   "source": [
    "ep1={122:33,111:11,123:33}\n",
    "ep2={900:90,800:80}"
   ]
  },
  {
   "cell_type": "code",
   "execution_count": 9,
   "id": "4f4bf9f2",
   "metadata": {},
   "outputs": [],
   "source": [
    "ep1.update(ep2)"
   ]
  },
  {
   "cell_type": "code",
   "execution_count": 10,
   "id": "3c129871",
   "metadata": {},
   "outputs": [
    {
     "data": {
      "text/plain": [
       "{122: 33, 111: 11, 123: 33, 900: 90, 800: 80}"
      ]
     },
     "execution_count": 10,
     "metadata": {},
     "output_type": "execute_result"
    }
   ],
   "source": [
    "ep1"
   ]
  },
  {
   "cell_type": "code",
   "execution_count": 11,
   "id": "3e2d7c58",
   "metadata": {},
   "outputs": [
    {
     "data": {
      "text/plain": [
       "11"
      ]
     },
     "execution_count": 11,
     "metadata": {},
     "output_type": "execute_result"
    }
   ],
   "source": [
    "ep1.pop(111)"
   ]
  },
  {
   "cell_type": "code",
   "execution_count": 12,
   "id": "338a3b3a",
   "metadata": {},
   "outputs": [
    {
     "data": {
      "text/plain": [
       "{122: 33, 123: 33, 900: 90, 800: 80}"
      ]
     },
     "execution_count": 12,
     "metadata": {},
     "output_type": "execute_result"
    }
   ],
   "source": [
    "ep1"
   ]
  },
  {
   "cell_type": "code",
   "execution_count": 13,
   "id": "af7d98e7",
   "metadata": {},
   "outputs": [
    {
     "data": {
      "text/plain": [
       "(800, 80)"
      ]
     },
     "execution_count": 13,
     "metadata": {},
     "output_type": "execute_result"
    }
   ],
   "source": [
    "# remove the last value pair\n",
    "ep1.popitem()"
   ]
  },
  {
   "cell_type": "code",
   "execution_count": 14,
   "id": "7293f595",
   "metadata": {},
   "outputs": [
    {
     "data": {
      "text/plain": [
       "{122: 33, 123: 33, 900: 90}"
      ]
     },
     "execution_count": 14,
     "metadata": {},
     "output_type": "execute_result"
    }
   ],
   "source": [
    "ep1"
   ]
  },
  {
   "cell_type": "code",
   "execution_count": null,
   "id": "5070a656",
   "metadata": {},
   "outputs": [],
   "source": []
  }
 ],
 "metadata": {
  "kernelspec": {
   "display_name": "Python 3 (ipykernel)",
   "language": "python",
   "name": "python3"
  },
  "language_info": {
   "codemirror_mode": {
    "name": "ipython",
    "version": 3
   },
   "file_extension": ".py",
   "mimetype": "text/x-python",
   "name": "python",
   "nbconvert_exporter": "python",
   "pygments_lexer": "ipython3",
   "version": "3.11.5"
  }
 },
 "nbformat": 4,
 "nbformat_minor": 5
}
