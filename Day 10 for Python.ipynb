{
 "cells": [
  {
   "cell_type": "code",
   "execution_count": 1,
   "id": "8a1faff8",
   "metadata": {},
   "outputs": [],
   "source": [
    "import pandas as pd"
   ]
  },
  {
   "cell_type": "markdown",
   "id": "6b1877ba",
   "metadata": {},
   "source": [
    "# Access Modifiers"
   ]
  },
  {
   "cell_type": "code",
   "execution_count": 8,
   "id": "4bb1fd48",
   "metadata": {},
   "outputs": [
    {
     "name": "stdout",
     "output_type": "stream",
     "text": [
      "Usama\n"
     ]
    }
   ],
   "source": [
    "# Public Class\n",
    "class Employee:\n",
    "    def __init__(self):\n",
    "        self.name=\"Usama\"\n",
    "a=Employee()\n",
    "print(a.name)"
   ]
  },
  {
   "cell_type": "code",
   "execution_count": 12,
   "id": "13b460fc",
   "metadata": {},
   "outputs": [
    {
     "ename": "AttributeError",
     "evalue": "'Employee' object has no attribute '__name'",
     "output_type": "error",
     "traceback": [
      "\u001b[1;31m---------------------------------------------------------------------------\u001b[0m",
      "\u001b[1;31mAttributeError\u001b[0m                            Traceback (most recent call last)",
      "Cell \u001b[1;32mIn[12], line 7\u001b[0m\n\u001b[0;32m      5\u001b[0m a\u001b[38;5;241m=\u001b[39mEmployee()\n\u001b[0;32m      6\u001b[0m \u001b[38;5;66;03m# cannot be access \u001b[39;00m\n\u001b[1;32m----> 7\u001b[0m \u001b[38;5;28mprint\u001b[39m(a\u001b[38;5;241m.\u001b[39m__name)\n",
      "\u001b[1;31mAttributeError\u001b[0m: 'Employee' object has no attribute '__name'"
     ]
    }
   ],
   "source": [
    "# Private \n",
    "class Employee:\n",
    "    def __init__(self):\n",
    "        self.__name=\"Usama\"\n",
    "a=Employee()\n",
    "# cannot be access \n",
    "print(a.__name)"
   ]
  },
  {
   "cell_type": "code",
   "execution_count": 13,
   "id": "26fd3a49",
   "metadata": {},
   "outputs": [
    {
     "name": "stdout",
     "output_type": "stream",
     "text": [
      "Usama\n"
     ]
    }
   ],
   "source": [
    "# Private \n",
    "class Employee:\n",
    "    def __init__(self):\n",
    "        self.__name=\"Usama\"\n",
    "a=Employee()\n",
    "# Access by \n",
    "print(a._Employee__name)"
   ]
  },
  {
   "cell_type": "code",
   "execution_count": 14,
   "id": "4a094647",
   "metadata": {},
   "outputs": [
    {
     "name": "stdout",
     "output_type": "stream",
     "text": [
      "['_Employee__name', '__module__', '__init__', '__dict__', '__weakref__', '__doc__', '__new__', '__repr__', '__hash__', '__str__', '__getattribute__', '__setattr__', '__delattr__', '__lt__', '__le__', '__eq__', '__ne__', '__gt__', '__ge__', '__reduce_ex__', '__reduce__', '__getstate__', '__subclasshook__', '__init_subclass__', '__format__', '__sizeof__', '__dir__', '__class__']\n"
     ]
    }
   ],
   "source": [
    "print(a.__dir__())"
   ]
  },
  {
   "cell_type": "code",
   "execution_count": 21,
   "id": "d8a897c5",
   "metadata": {},
   "outputs": [
    {
     "name": "stdout",
     "output_type": "stream",
     "text": [
      "Usama\n"
     ]
    }
   ],
   "source": [
    "class student:\n",
    "    def __init__(self):\n",
    "        self._name=\"Usama\"\n",
    "    def _funName(self):\n",
    "        return \"Usama's Coding\"\n",
    "class subject(student):\n",
    "    pass\n",
    "obj= student()\n",
    "obj1=subject()\n",
    "print(obj._name)"
   ]
  },
  {
   "cell_type": "code",
   "execution_count": 23,
   "id": "caa445dd",
   "metadata": {},
   "outputs": [
    {
     "name": "stdout",
     "output_type": "stream",
     "text": [
      "Usama's Coding\n"
     ]
    }
   ],
   "source": [
    "print(obj._funName())"
   ]
  },
  {
   "cell_type": "code",
   "execution_count": 24,
   "id": "88db7d3b",
   "metadata": {},
   "outputs": [
    {
     "name": "stdout",
     "output_type": "stream",
     "text": [
      "Usama\n"
     ]
    }
   ],
   "source": [
    "print(obj1._name)"
   ]
  },
  {
   "cell_type": "code",
   "execution_count": 25,
   "id": "14df06a2",
   "metadata": {},
   "outputs": [
    {
     "name": "stdout",
     "output_type": "stream",
     "text": [
      "Usama's Coding\n"
     ]
    }
   ],
   "source": [
    "print(obj1._funName())"
   ]
  },
  {
   "cell_type": "code",
   "execution_count": 27,
   "id": "987e62c3",
   "metadata": {},
   "outputs": [
    {
     "name": "stdout",
     "output_type": "stream",
     "text": [
      "['_name', '__module__', '__init__', '_funName', '__dict__', '__weakref__', '__doc__', '__new__', '__repr__', '__hash__', '__str__', '__getattribute__', '__setattr__', '__delattr__', '__lt__', '__le__', '__eq__', '__ne__', '__gt__', '__ge__', '__reduce_ex__', '__reduce__', '__getstate__', '__subclasshook__', '__init_subclass__', '__format__', '__sizeof__', '__dir__', '__class__']\n"
     ]
    }
   ],
   "source": [
    "print(obj.__dir__())"
   ]
  },
  {
   "cell_type": "markdown",
   "id": "ee7e9cdb",
   "metadata": {},
   "source": [
    "# Snake water Gun Game"
   ]
  },
  {
   "cell_type": "code",
   "execution_count": 2,
   "id": "02685855",
   "metadata": {},
   "outputs": [],
   "source": [
    "import random "
   ]
  },
  {
   "cell_type": "code",
   "execution_count": 17,
   "id": "adf8002b",
   "metadata": {},
   "outputs": [
    {
     "name": "stdout",
     "output_type": "stream",
     "text": [
      "0 for snake, 1 for  water and -1 for Gun1\n",
      "You : 1\n",
      "computer:  0\n",
      "You Lose\n"
     ]
    }
   ],
   "source": [
    "def check (comp,user):\n",
    "    if (comp==user):\n",
    "        return 0\n",
    "    if (comp==0 and user==1):\n",
    "        return -1\n",
    "    if (comp==1 and user==2):\n",
    "        return -1\n",
    "    if (comp==2 and user==0):\n",
    "        return -1\n",
    "        return 1\n",
    "comp=(random.randint(0,2))\n",
    "user = int ( input(\"0 for snake, 1 for  water and -1 for Gun\")) \n",
    "score = check (comp,user)\n",
    "print(\"You :\",user)\n",
    "print(\"computer: \",comp)\n",
    "if (score==0):\n",
    "    print(\"Its a draw\")\n",
    "elif score==-1:\n",
    "    print(\"You Lose\")\n",
    "elif score==1:\n",
    "    print(\"You won\")"
   ]
  },
  {
   "cell_type": "code",
   "execution_count": null,
   "id": "121ecbb6",
   "metadata": {},
   "outputs": [],
   "source": []
  }
 ],
 "metadata": {
  "kernelspec": {
   "display_name": "Python 3 (ipykernel)",
   "language": "python",
   "name": "python3"
  },
  "language_info": {
   "codemirror_mode": {
    "name": "ipython",
    "version": 3
   },
   "file_extension": ".py",
   "mimetype": "text/x-python",
   "name": "python",
   "nbconvert_exporter": "python",
   "pygments_lexer": "ipython3",
   "version": "3.11.5"
  }
 },
 "nbformat": 4,
 "nbformat_minor": 5
}
