{
 "cells": [
  {
   "cell_type": "code",
   "execution_count": 1,
   "id": "a5be1a62",
   "metadata": {},
   "outputs": [],
   "source": [
    "import pandas as pd"
   ]
  },
  {
   "cell_type": "markdown",
   "id": "6bb2f230",
   "metadata": {},
   "source": [
    "# Enumerate Function"
   ]
  },
  {
   "cell_type": "code",
   "execution_count": 2,
   "id": "41ae1938",
   "metadata": {},
   "outputs": [
    {
     "name": "stdout",
     "output_type": "stream",
     "text": [
      "12\n",
      "34\n",
      "45\n",
      "66\n",
      "Usama , Awesome\n",
      "77\n",
      "88\n",
      "98\n"
     ]
    }
   ],
   "source": [
    "Marks=[12,34,45,66,77,88,98]\n",
    "for index, mark in enumerate(Marks):\n",
    "    print(mark)\n",
    "    if(index==3):\n",
    "        print (\"Usama , Awesome\")"
   ]
  },
  {
   "cell_type": "markdown",
   "id": "3167b5d0",
   "metadata": {},
   "source": [
    "# import work in Python"
   ]
  },
  {
   "cell_type": "code",
   "execution_count": 1,
   "id": "e61d9530",
   "metadata": {},
   "outputs": [],
   "source": [
    "import math"
   ]
  },
  {
   "cell_type": "code",
   "execution_count": 2,
   "id": "c619fbcd",
   "metadata": {},
   "outputs": [
    {
     "data": {
      "text/plain": [
       "2"
      ]
     },
     "execution_count": 2,
     "metadata": {},
     "output_type": "execute_result"
    }
   ],
   "source": [
    "math.floor(2.9998882222)"
   ]
  },
  {
   "cell_type": "code",
   "execution_count": 6,
   "id": "6cbee437",
   "metadata": {},
   "outputs": [],
   "source": [
    "res=math.sqrt(9)"
   ]
  },
  {
   "cell_type": "code",
   "execution_count": 7,
   "id": "96348f88",
   "metadata": {},
   "outputs": [
    {
     "data": {
      "text/plain": [
       "3.0"
      ]
     },
     "execution_count": 7,
     "metadata": {},
     "output_type": "execute_result"
    }
   ],
   "source": [
    "res"
   ]
  },
  {
   "cell_type": "code",
   "execution_count": 12,
   "id": "da7cbaf9",
   "metadata": {},
   "outputs": [],
   "source": [
    "from math import sqrt,pi"
   ]
  },
  {
   "cell_type": "code",
   "execution_count": 13,
   "id": "d9be7635",
   "metadata": {},
   "outputs": [],
   "source": [
    "res=math.sqrt(9)*pi"
   ]
  },
  {
   "cell_type": "code",
   "execution_count": 14,
   "id": "3996b3f4",
   "metadata": {},
   "outputs": [
    {
     "data": {
      "text/plain": [
       "9.42477796076938"
      ]
     },
     "execution_count": 14,
     "metadata": {},
     "output_type": "execute_result"
    }
   ],
   "source": [
    "res"
   ]
  },
  {
   "cell_type": "code",
   "execution_count": 16,
   "id": "492f2288",
   "metadata": {},
   "outputs": [
    {
     "name": "stdout",
     "output_type": "stream",
     "text": [
      "['__doc__', '__loader__', '__name__', '__package__', '__spec__', 'acos', 'acosh', 'asin', 'asinh', 'atan', 'atan2', 'atanh', 'cbrt', 'ceil', 'comb', 'copysign', 'cos', 'cosh', 'degrees', 'dist', 'e', 'erf', 'erfc', 'exp', 'exp2', 'expm1', 'fabs', 'factorial', 'floor', 'fmod', 'frexp', 'fsum', 'gamma', 'gcd', 'hypot', 'inf', 'isclose', 'isfinite', 'isinf', 'isnan', 'isqrt', 'lcm', 'ldexp', 'lgamma', 'log', 'log10', 'log1p', 'log2', 'modf', 'nan', 'nextafter', 'perm', 'pi', 'pow', 'prod', 'radians', 'remainder', 'sin', 'sinh', 'sqrt', 'tan', 'tanh', 'tau', 'trunc', 'ulp']\n"
     ]
    }
   ],
   "source": [
    "print(dir(math))"
   ]
  },
  {
   "cell_type": "code",
   "execution_count": 21,
   "id": "fe9d9208",
   "metadata": {},
   "outputs": [
    {
     "name": "stdout",
     "output_type": "stream",
     "text": [
      "nan <class 'float'>\n"
     ]
    }
   ],
   "source": [
    "print(math.nan,type(math.nan))"
   ]
  },
  {
   "cell_type": "code",
   "execution_count": 24,
   "id": "5e1b0276",
   "metadata": {},
   "outputs": [
    {
     "name": "stdout",
     "output_type": "stream",
     "text": [
      "__main__\n"
     ]
    }
   ],
   "source": [
    "print(__name__)"
   ]
  },
  {
   "cell_type": "raw",
   "id": "a5cf56e2",
   "metadata": {},
   "source": [
    "# if you want to create 100 folder for your course then you can"
   ]
  },
  {
   "cell_type": "raw",
   "id": "35a6a68c",
   "metadata": {},
   "source": [
    "import os"
   ]
  },
  {
   "cell_type": "raw",
   "id": "658386ac",
   "metadata": {},
   "source": [
    "if (not os.path.exists('data')):\n",
    "    os.mkdir(\"data\")\n",
    "for i in range (0,100):\n",
    "    os.mkdir(f\"data/Day{+1}\")\n",
    "for i in range (0,100):\n",
    "    os.rename(f\"data/Day{+1}\",f\"data/Tutorial{+1}\")\n",
    "folders= os.listdir(\"data\")\n",
    "print(folders)\n"
   ]
  },
  {
   "cell_type": "markdown",
   "id": "acc065ad",
   "metadata": {},
   "source": [
    "# Secret COde Language"
   ]
  },
  {
   "cell_type": "code",
   "execution_count": 12,
   "id": "61ca88d0",
   "metadata": {},
   "outputs": [
    {
     "name": "stdout",
     "output_type": "stream",
     "text": [
      "abcoding is my passioncxyz\n"
     ]
    }
   ],
   "source": [
    "# it will drop first letter and append it at the last\n",
    "st=\"coding is my passion\"\n",
    "if(len(st)>=3):\n",
    "    r1=\"abc\"\n",
    "    r2=\"xyz\"\n",
    "    st=r1+st[1:]+st[0]+r2\n",
    "    print(st)"
   ]
  },
  {
   "cell_type": "code",
   "execution_count": 2,
   "id": "a310a657",
   "metadata": {},
   "outputs": [
    {
     "name": "stdout",
     "output_type": "stream",
     "text": [
      "Enter your wordsUsama is a good boy\n",
      "abcsamaUxyz si\n",
      "abcsamaUxyz si a\n"
     ]
    }
   ],
   "source": [
    "st=input(\"Enter your words\")\n",
    "words=st.split(\" \")\n",
    "nwords=[]\n",
    "for word in words:\n",
    "    if(len(word)>=3):\n",
    "        r1=\"abc\"\n",
    "        r2=\"xyz\"\n",
    "        stnew=r1 +word[1:] + word[0] + r2\n",
    "        nwords.append(stnew)\n",
    "    else:\n",
    "        nwords.append(word[::-1])\n",
    "        print(\" \".join(nwords))"
   ]
  },
  {
   "cell_type": "code",
   "execution_count": 18,
   "id": "e52b9d60",
   "metadata": {},
   "outputs": [
    {
     "name": "stdout",
     "output_type": "stream",
     "text": [
      "ok\n"
     ]
    }
   ],
   "source": [
    "print(\"ok\")"
   ]
  },
  {
   "cell_type": "code",
   "execution_count": null,
   "id": "a7911d47",
   "metadata": {},
   "outputs": [],
   "source": []
  }
 ],
 "metadata": {
  "kernelspec": {
   "display_name": "Python 3 (ipykernel)",
   "language": "python",
   "name": "python3"
  },
  "language_info": {
   "codemirror_mode": {
    "name": "ipython",
    "version": 3
   },
   "file_extension": ".py",
   "mimetype": "text/x-python",
   "name": "python",
   "nbconvert_exporter": "python",
   "pygments_lexer": "ipython3",
   "version": "3.11.5"
  }
 },
 "nbformat": 4,
 "nbformat_minor": 5
}
