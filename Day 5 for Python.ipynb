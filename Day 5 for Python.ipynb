{
 "cells": [
  {
   "cell_type": "code",
   "execution_count": 1,
   "id": "3dc64aae",
   "metadata": {},
   "outputs": [],
   "source": [
    "import pandas as pd"
   ]
  },
  {
   "cell_type": "markdown",
   "id": "fd5ed159",
   "metadata": {},
   "source": [
    "# Else and break in for loop"
   ]
  },
  {
   "cell_type": "code",
   "execution_count": 2,
   "id": "83cd1ba0",
   "metadata": {},
   "outputs": [
    {
     "name": "stdout",
     "output_type": "stream",
     "text": [
      "0\n",
      "1\n",
      "2\n",
      "3\n",
      "4\n"
     ]
    }
   ],
   "source": [
    "for i in range(5):\n",
    "    print(i)\n",
    "    if i == 4:\n",
    "        break\n",
    "else :\n",
    "    print('im sorry')"
   ]
  },
  {
   "cell_type": "code",
   "execution_count": 3,
   "id": "d9d5ee01",
   "metadata": {},
   "outputs": [
    {
     "name": "stdout",
     "output_type": "stream",
     "text": [
      "0\n",
      "1\n",
      "2\n",
      "3\n"
     ]
    }
   ],
   "source": [
    "i=0\n",
    "while i<7:\n",
    "    print(i)\n",
    "    i = i+1\n",
    "    if i==4:\n",
    "        break\n",
    "else:\n",
    "    print('sorry')"
   ]
  },
  {
   "cell_type": "markdown",
   "id": "f84d6b8c",
   "metadata": {},
   "source": [
    "# Execption Handling"
   ]
  },
  {
   "cell_type": "code",
   "execution_count": 4,
   "id": "4aa32736",
   "metadata": {},
   "outputs": [
    {
     "name": "stdout",
     "output_type": "stream",
     "text": [
      "enter the number is \n",
      "Invalid Input\n",
      "some imp line of code\n",
      "End of the programm\n"
     ]
    }
   ],
   "source": [
    "a=input('enter the number is ')\n",
    "try:\n",
    "    for i in range(1,11):\n",
    "        print(f\"{int(a)} X {i} = {int(a)*i}\")\n",
    "except ValueError:\n",
    "    print('Invalid Input')\n",
    "print('some imp line of code')\n",
    "print(\"End of the programm\")"
   ]
  },
  {
   "cell_type": "markdown",
   "id": "77dd3fa6",
   "metadata": {},
   "source": [
    "# Finally Clause"
   ]
  },
  {
   "cell_type": "code",
   "execution_count": 5,
   "id": "e3ee9fa5",
   "metadata": {},
   "outputs": [
    {
     "name": "stdout",
     "output_type": "stream",
     "text": [
      "Enter the index: 2\n",
      "33\n",
      "i am always executed\n",
      "1\n"
     ]
    }
   ],
   "source": [
    "def func1():\n",
    "    try:\n",
    "        l=[12,22,33,44,55,66,77,88,99]\n",
    "        i = int(input(\"Enter the index: \"))\n",
    "        print(l[i])\n",
    "        return 1\n",
    "    except :\n",
    "        print('Index Error')\n",
    "        return 0\n",
    "    finally:\n",
    "        print('i am always executed')\n",
    "x=func1()\n",
    "print(x)"
   ]
  },
  {
   "cell_type": "markdown",
   "id": "7173f494",
   "metadata": {},
   "source": [
    "# Raising Custom Error"
   ]
  },
  {
   "cell_type": "code",
   "execution_count": 6,
   "id": "4f3c1489",
   "metadata": {},
   "outputs": [
    {
     "name": "stdout",
     "output_type": "stream",
     "text": [
      "Enter the number 5 To 9 Your number is :111\n"
     ]
    },
    {
     "ename": "ValueError",
     "evalue": "your nmb is no valid in tha range",
     "output_type": "error",
     "traceback": [
      "\u001b[1;31m---------------------------------------------------------------------------\u001b[0m",
      "\u001b[1;31mValueError\u001b[0m                                Traceback (most recent call last)",
      "Cell \u001b[1;32mIn[6], line 3\u001b[0m\n\u001b[0;32m      1\u001b[0m a\u001b[38;5;241m=\u001b[39m \u001b[38;5;28mint\u001b[39m(\u001b[38;5;28minput\u001b[39m(\u001b[38;5;124m'\u001b[39m\u001b[38;5;124mEnter the number 5 To 9 Your number is :\u001b[39m\u001b[38;5;124m'\u001b[39m))\n\u001b[0;32m      2\u001b[0m \u001b[38;5;28;01mif\u001b[39;00m (a\u001b[38;5;241m<\u001b[39m\u001b[38;5;241m5\u001b[39m \u001b[38;5;129;01mor\u001b[39;00m a\u001b[38;5;241m>\u001b[39m\u001b[38;5;241m9\u001b[39m):\n\u001b[1;32m----> 3\u001b[0m     \u001b[38;5;28;01mraise\u001b[39;00m \u001b[38;5;167;01mValueError\u001b[39;00m(\u001b[38;5;124m'\u001b[39m\u001b[38;5;124myour nmb is no valid in tha range\u001b[39m\u001b[38;5;124m'\u001b[39m)\n",
      "\u001b[1;31mValueError\u001b[0m: your nmb is no valid in tha range"
     ]
    }
   ],
   "source": [
    "a= int(input('Enter the number 5 To 9 Your number is :'))\n",
    "if (a<5 or a>9):\n",
    "    raise ValueError('your nmb is no valid in tha range')"
   ]
  },
  {
   "cell_type": "markdown",
   "id": "c0b0e100",
   "metadata": {},
   "source": [
    "# Exercise Question Game"
   ]
  },
  {
   "cell_type": "code",
   "execution_count": 13,
   "id": "5218e06e",
   "metadata": {},
   "outputs": [
    {
     "name": "stdout",
     "output_type": "stream",
     "text": [
      "\n",
      "\n",
      "question for RS. 1000\n",
      "a.  Python\n",
      "b.  JS\n",
      "c.  French\n",
      "d.  ReactJS\n",
      "Enter your answer (1-4)4\n",
      "you have win 1000\n",
      "\n",
      "\n",
      "question for RS. 2000\n",
      "a.  Islamabad\n",
      "b.  Faisalbad\n",
      "c.  Karachi\n",
      "d.  Lahore\n",
      "Enter your answer (1-4)1\n",
      "you have win 2000\n",
      "You total winning amount is 2000\n"
     ]
    }
   ],
   "source": [
    "questions=[['Which language is used to build facebook?',\"Python\",\"JS\",'French','ReactJS',\"None\",4]\n",
    "          ,['which city of pakistan is the capital?','Islamabad','Faisalbad','Karachi','Lahore',1]\n",
    "          ]\n",
    "level=[1000,2000,3000,4000,5000,10000,15000,20000,30000]\n",
    "i=0\n",
    "for i in range(0,len(questions)):\n",
    "    question=questions[i]\n",
    "    print(f\"\\n\\nquestion for RS. {level[i]}\")\n",
    "    print(f\"a.  {questions[i][1]}\")     \n",
    "    print(f\"b.  {questions[i][2]}\")\n",
    "    print(f\"c.  {questions[i][3]}\")  \n",
    "    print(f\"d.  {questions[i][4]}\")  \n",
    "    reply=int(input('Enter your answer (1-4)'))\n",
    "    if (reply==question[-1]):\n",
    "        print(f\"you have win {level[i]}\")\n",
    "        if(i==0):\n",
    "            money=1000\n",
    "        elif(i==1):\n",
    "            money=2000\n",
    "    else:\n",
    "        print('wrong ans')\n",
    "        break \n",
    "print(f\"You total winning amount is {money}\")"
   ]
  },
  {
   "cell_type": "markdown",
   "id": "e9fbc928",
   "metadata": {},
   "source": [
    "# Short hand If Else"
   ]
  },
  {
   "cell_type": "code",
   "execution_count": 21,
   "id": "abfb9e78",
   "metadata": {},
   "outputs": [
    {
     "name": "stdout",
     "output_type": "stream",
     "text": [
      "B\n"
     ]
    }
   ],
   "source": [
    "a=33\n",
    "b=33.5\n",
    "print(\"A\")if a>b else print('=') if a==b else print(\"B\")"
   ]
  },
  {
   "cell_type": "code",
   "execution_count": null,
   "id": "6238dd9a",
   "metadata": {},
   "outputs": [],
   "source": []
  }
 ],
 "metadata": {
  "kernelspec": {
   "display_name": "Python 3 (ipykernel)",
   "language": "python",
   "name": "python3"
  },
  "language_info": {
   "codemirror_mode": {
    "name": "ipython",
    "version": 3
   },
   "file_extension": ".py",
   "mimetype": "text/x-python",
   "name": "python",
   "nbconvert_exporter": "python",
   "pygments_lexer": "ipython3",
   "version": "3.11.5"
  }
 },
 "nbformat": 4,
 "nbformat_minor": 5
}
