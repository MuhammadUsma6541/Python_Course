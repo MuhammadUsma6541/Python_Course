{
 "cells": [
  {
   "cell_type": "code",
   "execution_count": 1,
   "id": "84ac79f6",
   "metadata": {},
   "outputs": [],
   "source": [
    "import pandas as pd"
   ]
  },
  {
   "cell_type": "code",
   "execution_count": 4,
   "id": "3998c5d0",
   "metadata": {},
   "outputs": [
    {
     "name": "stdout",
     "output_type": "stream",
     "text": [
      "hello\n"
     ]
    }
   ],
   "source": [
    "print( \"hello\")"
   ]
  },
  {
   "cell_type": "code",
   "execution_count": 5,
   "id": "db169cbb",
   "metadata": {},
   "outputs": [
    {
     "name": "stdout",
     "output_type": "stream",
     "text": [
      "Muhammad Usama\n"
     ]
    }
   ],
   "source": [
    "print('Muhammad Usama')"
   ]
  },
  {
   "cell_type": "code",
   "execution_count": 6,
   "id": "cdf47491",
   "metadata": {},
   "outputs": [
    {
     "name": "stdout",
     "output_type": "stream",
     "text": [
      "enter your name:Usama\n",
      "My name is  Usama\n"
     ]
    }
   ],
   "source": [
    "a = input(\"enter your name:\")\n",
    "print(\"My name is \", a)"
   ]
  },
  {
   "cell_type": "code",
   "execution_count": 10,
   "id": "34e56876",
   "metadata": {},
   "outputs": [
    {
     "name": "stdout",
     "output_type": "stream",
     "text": [
      "Enter first num :2\n",
      "Enter second num :2\n",
      "4\n"
     ]
    }
   ],
   "source": [
    "# Sum of 2 integer\n",
    "x= input(\"Enter first num :\")\n",
    "y= input(\"Enter second num :\")\n",
    "print(int(x)+int(y))"
   ]
  },
  {
   "cell_type": "code",
   "execution_count": 11,
   "id": "3683204b",
   "metadata": {},
   "outputs": [
    {
     "name": "stdout",
     "output_type": "stream",
     "text": [
      "hey i am muhammad usama the man who did his graduation   \n"
     ]
    }
   ],
   "source": [
    "l='''hey i am muhammad usama the man who did his graduation   '''\n",
    "print (l)"
   ]
  },
  {
   "cell_type": "code",
   "execution_count": 12,
   "id": "f5d06024",
   "metadata": {},
   "outputs": [
    {
     "name": "stdout",
     "output_type": "stream",
     "text": [
      "a\n"
     ]
    }
   ],
   "source": [
    "name = \"Usama\"\n",
    "print(name[2])"
   ]
  },
  {
   "cell_type": "code",
   "execution_count": 13,
   "id": "a03662fc",
   "metadata": {},
   "outputs": [
    {
     "name": "stdout",
     "output_type": "stream",
     "text": [
      "usama\n"
     ]
    }
   ],
   "source": [
    "names = \"usama , ahmad\"\n",
    "print(names[0:5])"
   ]
  },
  {
   "cell_type": "code",
   "execution_count": 14,
   "id": "ec218a24",
   "metadata": {},
   "outputs": [
    {
     "name": "stdout",
     "output_type": "stream",
     "text": [
      "13\n"
     ]
    }
   ],
   "source": [
    "print (len(names))"
   ]
  },
  {
   "cell_type": "code",
   "execution_count": 16,
   "id": "647c8d99",
   "metadata": {},
   "outputs": [
    {
     "name": "stdout",
     "output_type": "stream",
     "text": [
      "s\n"
     ]
    }
   ],
   "source": [
    "# Negative Indexing\n",
    "nam=\"usama\"\n",
    "print(nam[-4:-3] )"
   ]
  },
  {
   "cell_type": "code",
   "execution_count": 18,
   "id": "bf3918b9",
   "metadata": {},
   "outputs": [
    {
     "name": "stdout",
     "output_type": "stream",
     "text": [
      "4\n"
     ]
    }
   ],
   "source": [
    "# Count \n",
    "str = \"hello man how are you here meet he is charless from indonasia his colour is black but he is a skilled person.\"\n",
    "print(str.count(\"he\"))"
   ]
  },
  {
   "cell_type": "code",
   "execution_count": null,
   "id": "8cbf3463",
   "metadata": {},
   "outputs": [],
   "source": []
  }
 ],
 "metadata": {
  "kernelspec": {
   "display_name": "Python 3 (ipykernel)",
   "language": "python",
   "name": "python3"
  },
  "language_info": {
   "codemirror_mode": {
    "name": "ipython",
    "version": 3
   },
   "file_extension": ".py",
   "mimetype": "text/x-python",
   "name": "python",
   "nbconvert_exporter": "python",
   "pygments_lexer": "ipython3",
   "version": "3.11.5"
  }
 },
 "nbformat": 4,
 "nbformat_minor": 5
}
