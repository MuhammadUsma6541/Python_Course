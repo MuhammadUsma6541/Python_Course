{
 "cells": [
  {
   "cell_type": "code",
   "execution_count": 1,
   "id": "b3231bd1",
   "metadata": {},
   "outputs": [],
   "source": [
    "import pandas as pd"
   ]
  },
  {
   "cell_type": "markdown",
   "id": "83766616",
   "metadata": {},
   "source": [
    "# Decorator"
   ]
  },
  {
   "cell_type": "code",
   "execution_count": 7,
   "id": "27dd915b",
   "metadata": {},
   "outputs": [
    {
     "name": "stdout",
     "output_type": "stream",
     "text": [
      "GOOD MORNING\n",
      "Hello World\n",
      "Thanks for using this function\n"
     ]
    }
   ],
   "source": [
    "def greet(fx):\n",
    "    def mfx():\n",
    "        print(\"GOOD MORNING\")\n",
    "        fx()\n",
    "        print(\"Thanks for using this function\")\n",
    "    return mfx\n",
    "@greet\n",
    "def hello():\n",
    "    print(\"Hello World\")\n",
    "hello()"
   ]
  },
  {
   "cell_type": "markdown",
   "id": "fecd4e55",
   "metadata": {},
   "source": [
    "# Getter Method"
   ]
  },
  {
   "cell_type": "code",
   "execution_count": 14,
   "id": "46cca335",
   "metadata": {},
   "outputs": [
    {
     "name": "stdout",
     "output_type": "stream",
     "text": [
      "100\n",
      " value is 10 \n"
     ]
    }
   ],
   "source": [
    "class MyClass:\n",
    "    def __init__(self,value):\n",
    "        self._value= value\n",
    "    def show(self):\n",
    "        print(f\" value is {self._value} \")\n",
    "    @property\n",
    "    def ten_value (self):\n",
    "        return 10*self._value\n",
    "obj=MyClass(10)\n",
    "print(obj.ten_value)\n",
    "obj.show()"
   ]
  },
  {
   "cell_type": "markdown",
   "id": "32f64bb3",
   "metadata": {},
   "source": [
    "# Setter Method"
   ]
  },
  {
   "cell_type": "code",
   "execution_count": 18,
   "id": "a83c962f",
   "metadata": {},
   "outputs": [
    {
     "name": "stdout",
     "output_type": "stream",
     "text": [
      "67.0\n",
      " value is 6.7 \n"
     ]
    }
   ],
   "source": [
    "class MyClass:\n",
    "    def __init__(self,value):\n",
    "        self._value= value\n",
    "    def show(self):\n",
    "        print(f\" value is {self._value} \")\n",
    "#     Getter\n",
    "    @property\n",
    "    def ten_value (self):\n",
    "        return 10*self._value\n",
    "#     Setter\n",
    "    @ten_value.setter\n",
    "    def ten_value(self,new_value):\n",
    "        self._value=new_value/10\n",
    "obj=MyClass(10)\n",
    "obj.ten_value=67\n",
    "print(obj.ten_value)\n",
    "obj.show()"
   ]
  },
  {
   "cell_type": "markdown",
   "id": "8c67c1ac",
   "metadata": {},
   "source": [
    "# Inheritance in Python"
   ]
  },
  {
   "cell_type": "code",
   "execution_count": 23,
   "id": "592c19a1",
   "metadata": {},
   "outputs": [
    {
     "name": "stdout",
     "output_type": "stream",
     "text": [
      "The name of the Employee : 420 is Usama\n",
      "The default language is Python\n"
     ]
    }
   ],
   "source": [
    "class Employee:\n",
    "    def __init__(self,name,id):\n",
    "        self.name=name\n",
    "        self.id=id\n",
    "    def showDetails(self):\n",
    "        print(f\"The name of the Employee : {self.id} is {self.name}\")\n",
    "class programmer(Employee):\n",
    "    def showLanguage(self):\n",
    "        print(\"The default language is Python\")\n",
    "e=Employee(\"Usama\",420)\n",
    "e.showDetails()\n",
    "e1=programmer(\"usam\",112)\n",
    "e1.showLanguage()"
   ]
  },
  {
   "cell_type": "code",
   "execution_count": null,
   "id": "12e87793",
   "metadata": {},
   "outputs": [],
   "source": []
  }
 ],
 "metadata": {
  "kernelspec": {
   "display_name": "Python 3 (ipykernel)",
   "language": "python",
   "name": "python3"
  },
  "language_info": {
   "codemirror_mode": {
    "name": "ipython",
    "version": 3
   },
   "file_extension": ".py",
   "mimetype": "text/x-python",
   "name": "python",
   "nbconvert_exporter": "python",
   "pygments_lexer": "ipython3",
   "version": "3.11.5"
  }
 },
 "nbformat": 4,
 "nbformat_minor": 5
}
