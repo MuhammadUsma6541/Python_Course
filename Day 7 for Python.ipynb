{
 "cells": [
  {
   "cell_type": "code",
   "execution_count": 1,
   "id": "1084c0d8",
   "metadata": {},
   "outputs": [],
   "source": [
    "import pandas as pd"
   ]
  },
  {
   "cell_type": "markdown",
   "id": "cb1617b1",
   "metadata": {},
   "source": [
    "# Global and Local variables"
   ]
  },
  {
   "cell_type": "code",
   "execution_count": 11,
   "id": "754dd5cf",
   "metadata": {},
   "outputs": [
    {
     "name": "stdout",
     "output_type": "stream",
     "text": [
      "10\n"
     ]
    }
   ],
   "source": [
    "x = 10\n",
    "print (x)"
   ]
  },
  {
   "cell_type": "code",
   "execution_count": 12,
   "id": "77ca31dd",
   "metadata": {},
   "outputs": [
    {
     "name": "stdout",
     "output_type": "stream",
     "text": [
      "The global x is 10\n",
      "THe local x is 5\n",
      "Welcome\n",
      "The global x is 10\n"
     ]
    }
   ],
   "source": [
    "def hello():\n",
    "    x=5\n",
    "    print(f\"THe local x is {x}\")\n",
    "    print(\"Welcome\")\n",
    "print(f\"The global x is {x}\")\n",
    "hello()    \n",
    "print (f\"The global x is {x}\")"
   ]
  },
  {
   "cell_type": "code",
   "execution_count": 14,
   "id": "6fbb7ca9",
   "metadata": {},
   "outputs": [
    {
     "name": "stdout",
     "output_type": "stream",
     "text": [
      "The global x is 4\n",
      "THe local x is 5\n",
      "Welcome\n",
      "The global x is 5\n"
     ]
    }
   ],
   "source": [
    "# if we use the global x in the function then we can print it after the function\n",
    "x=4\n",
    "def hello():\n",
    "    global x\n",
    "    x=5\n",
    "    print(f\"THe local x is {x}\")\n",
    "    print(\"Welcome\")\n",
    "print(f\"The global x is {x}\")\n",
    "hello()    \n",
    "print (f\"The global x is {x}\")"
   ]
  },
  {
   "cell_type": "markdown",
   "id": "371c49c9",
   "metadata": {},
   "source": [
    "# Seek(),tell()"
   ]
  },
  {
   "cell_type": "code",
   "execution_count": 4,
   "id": "6d0fe871",
   "metadata": {},
   "outputs": [],
   "source": [
    "str=[\"Usama Is a good boy\"]"
   ]
  },
  {
   "cell_type": "code",
   "execution_count": 5,
   "id": "48b31d92",
   "metadata": {},
   "outputs": [
    {
     "data": {
      "text/plain": [
       "['Usama Is a good boy']"
      ]
     },
     "execution_count": 5,
     "metadata": {},
     "output_type": "execute_result"
    }
   ],
   "source": [
    "str"
   ]
  },
  {
   "cell_type": "markdown",
   "id": "13660c12",
   "metadata": {},
   "source": [
    "str.seek(10)"
   ]
  },
  {
   "cell_type": "markdown",
   "id": "eb72700c",
   "metadata": {},
   "source": [
    "# Lamda Function"
   ]
  },
  {
   "cell_type": "code",
   "execution_count": 2,
   "id": "288b3e5b",
   "metadata": {},
   "outputs": [
    {
     "name": "stdout",
     "output_type": "stream",
     "text": [
      "10\n"
     ]
    }
   ],
   "source": [
    "def double(x):\n",
    "    return x*2\n",
    "print(double(5))"
   ]
  },
  {
   "cell_type": "code",
   "execution_count": 6,
   "id": "a1f49306",
   "metadata": {},
   "outputs": [
    {
     "name": "stdout",
     "output_type": "stream",
     "text": [
      "10\n"
     ]
    }
   ],
   "source": [
    "double = lambda x:x*2 \n",
    "print(double(5))"
   ]
  },
  {
   "cell_type": "code",
   "execution_count": 7,
   "id": "3affddde",
   "metadata": {},
   "outputs": [
    {
     "name": "stdout",
     "output_type": "stream",
     "text": [
      "125\n"
     ]
    }
   ],
   "source": [
    "double = lambda x:x*x*x \n",
    "print(double(5))"
   ]
  },
  {
   "cell_type": "code",
   "execution_count": 11,
   "id": "92f3a3ef",
   "metadata": {},
   "outputs": [
    {
     "name": "stdout",
     "output_type": "stream",
     "text": [
      "4.0\n"
     ]
    }
   ],
   "source": [
    "avg=lambda x,y:(x+y)/2\n",
    "print(avg(3,5))"
   ]
  },
  {
   "cell_type": "raw",
   "id": "d56b0a3b",
   "metadata": {},
   "source": [
    "def appl(fx ,value):\n",
    "    return 6+fx(value)\n",
    "print(appl(cube,3))"
   ]
  },
  {
   "cell_type": "markdown",
   "id": "1be02551",
   "metadata": {},
   "source": [
    "# Map,Filter and Reduce"
   ]
  },
  {
   "cell_type": "code",
   "execution_count": 21,
   "id": "bf44af45",
   "metadata": {},
   "outputs": [],
   "source": [
    "import math"
   ]
  },
  {
   "cell_type": "code",
   "execution_count": 23,
   "id": "b8c4b1d8",
   "metadata": {},
   "outputs": [
    {
     "name": "stdout",
     "output_type": "stream",
     "text": [
      "8\n"
     ]
    }
   ],
   "source": [
    "def cube(x):\n",
    "    return x*x*x\n",
    "print(cube(2))"
   ]
  },
  {
   "cell_type": "code",
   "execution_count": 28,
   "id": "38895e50",
   "metadata": {},
   "outputs": [
    {
     "name": "stdout",
     "output_type": "stream",
     "text": [
      "[1331, 8, 35937, 85184, 166375]\n"
     ]
    }
   ],
   "source": [
    "l=[11,2,33,44,55]\n",
    "newl=list(map(cube,l))\n",
    "print(newl)"
   ]
  },
  {
   "cell_type": "code",
   "execution_count": 29,
   "id": "656e0b64",
   "metadata": {},
   "outputs": [
    {
     "name": "stdout",
     "output_type": "stream",
     "text": [
      "[11, 33, 44, 55]\n"
     ]
    }
   ],
   "source": [
    "def filter_function(a):\n",
    "    return a>4\n",
    "filter_new=list(filter(filter_function,l))\n",
    "print(filter_new)"
   ]
  },
  {
   "cell_type": "code",
   "execution_count": 30,
   "id": "02b2714f",
   "metadata": {},
   "outputs": [],
   "source": [
    "from functools import reduce"
   ]
  },
  {
   "cell_type": "code",
   "execution_count": 31,
   "id": "64ee6ee2",
   "metadata": {},
   "outputs": [
    {
     "name": "stdout",
     "output_type": "stream",
     "text": [
      "28\n"
     ]
    }
   ],
   "source": [
    "numbers=[1,2,3,4,5,6,7]\n",
    "sum=reduce(lambda x,y:x+y,numbers)\n",
    "print(sum)"
   ]
  },
  {
   "cell_type": "code",
   "execution_count": null,
   "id": "a61c50a3",
   "metadata": {},
   "outputs": [],
   "source": []
  }
 ],
 "metadata": {
  "kernelspec": {
   "display_name": "Python 3 (ipykernel)",
   "language": "python",
   "name": "python3"
  },
  "language_info": {
   "codemirror_mode": {
    "name": "ipython",
    "version": 3
   },
   "file_extension": ".py",
   "mimetype": "text/x-python",
   "name": "python",
   "nbconvert_exporter": "python",
   "pygments_lexer": "ipython3",
   "version": "3.11.5"
  }
 },
 "nbformat": 4,
 "nbformat_minor": 5
}
